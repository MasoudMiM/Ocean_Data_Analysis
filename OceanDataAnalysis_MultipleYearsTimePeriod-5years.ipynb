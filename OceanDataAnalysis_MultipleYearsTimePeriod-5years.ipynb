{
 "cells": [
  {
   "cell_type": "markdown",
   "metadata": {},
   "source": [
    "# Ocean Wave Data from Buoys Reported by National Data Buoy Center (NDBC)"
   ]
  },
  {
   "cell_type": "markdown",
   "metadata": {},
   "source": [
    "## Table of Contents\n",
    "\n",
    "1. [**Importing Necessary Libraries**](#0)\n",
    "\n",
    "2. [**Data Collection**](#10)\n",
    "\n",
    "3. [**A look at the Data**](#20)\n",
    "\n",
    "4. [**Exploratory Data Analysis**](#30)\n",
    "\n",
    "5. [**Model Development & Evaluation**](#40)\n",
    "  \n",
    "  5.1 [**K-Means Clustering**](#45)"
   ]
  },
  {
   "cell_type": "markdown",
   "metadata": {},
   "source": [
    "## 1. Importing Necessary Libraries <a class=\"anchor\" id=\"0\"></a>"
   ]
  },
  {
   "cell_type": "code",
   "execution_count": null,
   "metadata": {},
   "outputs": [],
   "source": [
    "# Let's install and import the required libraries\n",
    "# Uncomments the following lines in case you don't have the libraries installed on your machine\n",
    "#!conda install -c conda-forge beautifulsoup4 --yes \n",
    "#!conda install -c conda-forge lxml --yes\n",
    "#!conda install -c conda-forge requests --yes\n",
    "#!conda install -c conda-forge folium=0.9 --yes\n",
    "#!conda install -c conda-forge windrose=1.6.7 --yes\n",
    "#!conda install -c conda-forge ipywebrtc --yes\n",
    "\n",
    "import sys\n",
    "from bs4 import BeautifulSoup\n",
    "import requests\n",
    "from urllib.request import urlopen, Request\n",
    "import numpy as np\n",
    "import pandas as pd\n",
    "import matplotlib\n",
    "import matplotlib.pyplot as plt\n",
    "from windrose import WindroseAxes\n",
    "import folium\n",
    "import json\n",
    "from datetime import date, timedelta, datetime\n",
    "# Put figures in the center\n",
    "from IPython.core.display import HTML\n",
    "import seaborn as sns\n",
    "\n",
    "sns.set(style=\"whitegrid\")\n",
    "print('All libraries installed and imported')"
   ]
  },
  {
   "cell_type": "markdown",
   "metadata": {},
   "source": [
    "## 2. Data Collection <a class=\"anchor\" id=\"10\"></a>"
   ]
  },
  {
   "cell_type": "markdown",
   "metadata": {},
   "source": [
    "Now, let's get the list of all the buoys from National Data Buoy Center. To get access to the data, we need to first create an account [here](https://data.planetos.com/datasets/noaa_ndbc_stdmet_stations?utm_source=github&utm_medium=notebook&utm_campaign=ndbc-wavewatch-iii-notebook). Once the account is created, API Key can be found under __Account Setting__. The data set id for National Data Buoy Center (NDBC) Standard Meteorological Data is __noaa_ndbc_stdmet_stations__. This data typically updates every hour."
   ]
  },
  {
   "cell_type": "markdown",
   "metadata": {},
   "source": [
    "### First, we use an API to get Buys' latitude, longitude and names."
   ]
  },
  {
   "cell_type": "code",
   "execution_count": null,
   "metadata": {},
   "outputs": [],
   "source": [
    "# @ hidden\n",
    "APIKey = \n",
    "DatasetID = "
   ]
  },
  {
   "cell_type": "code",
   "execution_count": null,
   "metadata": {},
   "outputs": [],
   "source": [
    "API_url = 'http://api.planetos.com/v1/datasets/%s/stations?apikey=%s' % (DatasetID, APIKey)\n",
    "request = requests.get(API_url).json() #Request(API_url)\n",
    "Stations = pd.DataFrame(request['station'])\n",
    "df_stations = pd.DataFrame(Stations.columns)\n",
    "for indx, StName in enumerate(Stations.columns):\n",
    "    df_stations.loc[indx,1]=Stations.loc['SpatialExtent'][indx]['coordinates'][0]\n",
    "    df_stations.loc[indx,2]=Stations.loc['SpatialExtent'][indx]['coordinates'][1]\n",
    "\n",
    "df_stations.columns = ['Station_Name','Latitude','Longitude']\n",
    "print('number of stations:',df_stations.shape[0])\n",
    "df_stations.head()"
   ]
  },
  {
   "cell_type": "code",
   "execution_count": null,
   "metadata": {},
   "outputs": [],
   "source": []
  },
  {
   "cell_type": "markdown",
   "metadata": {},
   "source": [
    "### Since the data from this API is not complete for each buoy and also have missing columns, we use the National Data Buoy Center website directly at https://www.ndbc.noaa.gov/ to get our information."
   ]
  },
  {
   "cell_type": "markdown",
   "metadata": {},
   "source": [
    "There is a list of stations categorized by their owners [here](https://www.ndbc.noaa.gov/to_station.shtml)"
   ]
  },
  {
   "cell_type": "code",
   "execution_count": null,
   "metadata": {},
   "outputs": [],
   "source": [
    "source=requests.get('https://www.ndbc.noaa.gov/to_station.shtml').text\n",
    "soup = BeautifulSoup(source,'lxml')\n",
    "Owners=[]\n",
    "BuoyData={}\n",
    "\n",
    "for owner in soup.find_all('h4'):\n",
    "    Owners.append(owner.text)\n",
    "for indx,table in enumerate(soup.find_all('pre')):\n",
    "    #print(indx,table.text)\n",
    "    try:\n",
    "        BuoyData[Owners[indx]]=table.text.replace('\\n','').strip()\n",
    "    except:\n",
    "        BuoyData[Owners[indx]]=table\n"
   ]
  },
  {
   "cell_type": "code",
   "execution_count": null,
   "metadata": {},
   "outputs": [],
   "source": []
  },
  {
   "cell_type": "code",
   "execution_count": null,
   "metadata": {},
   "outputs": [],
   "source": [
    "# First, let's make all the station names uppercase since they are in lowercase format in the website\n",
    "df_stations['Station_Name']=df_stations['Station_Name'].str.upper()\n",
    "# Now, let's put this data and the data containing the latitudes and longitudes in the same dataframe\n",
    "newlist1=[]\n",
    "newlist2=[]\n",
    "for indx1 in range(df_stations.shape[0]):\n",
    "    for indx2,owner in enumerate(Owners):\n",
    "        if (df_stations.iloc[indx1,0] in BuoyData[owner]):\n",
    "            newlist1.append(owner)\n",
    "            newlist2.append(df_stations.iloc[indx1,0])\n"
   ]
  },
  {
   "cell_type": "code",
   "execution_count": null,
   "metadata": {},
   "outputs": [],
   "source": [
    "df_stations0=pd.DataFrame({'Station_Name':newlist2,'Owner':newlist1})\n",
    "df_full1=pd.merge(df_stations0, df_stations, on='Station_Name')\n",
    "print('Number of Stations:',df_full1.shape[0])\n",
    "df_full1.head()"
   ]
  },
  {
   "cell_type": "code",
   "execution_count": null,
   "metadata": {},
   "outputs": [],
   "source": [
    "def BuoyLocationPlot2(buoys,MapInput,DataFrameInput,colorm,fill_colorm,Marker=False):\n",
    "    \n",
    "    # loop through and add each to the feature group\n",
    "    for lat, lng, label in zip(DataFrameInput.Longitude, DataFrameInput.Latitude, DataFrameInput.Station_Name):\n",
    "        buoys.add_child(\n",
    "            folium.CircleMarker(\n",
    "                [lat, lng],\n",
    "                radius=6, # define how big you want the circle markers to be\n",
    "                color=colorm,\n",
    "                fill=True,\n",
    "                fill_color=fill_colorm,\n",
    "                fill_opacity=0.8,\n",
    "                popup=label\n",
    "            )\n",
    "        )\n",
    "\n",
    "    \n",
    "    if Marker==True:\n",
    "        latitudes = list(DataFrameInput.Longitude)\n",
    "        longitudes = list(DataFrameInput.Latitude)\n",
    "        labels = list(DataFrameInput.Station_Name)\n",
    "        for lat, lng, label in zip(latitudes, longitudes, labels):\n",
    "            folium.Marker([lat, lng], popup=label).add_to(MapInput)    \n",
    "    \n",
    "    \n",
    "    return buoys"
   ]
  },
  {
   "cell_type": "code",
   "execution_count": null,
   "metadata": {},
   "outputs": [],
   "source": []
  },
  {
   "cell_type": "markdown",
   "metadata": {},
   "source": [
    "### Available Data for each buoy\n",
    "Not all the buys have data available for the same period of time. Some have been working for a short period of time, some had worked before but not any more, and some of them recently started working and collecting data. To have a full collection of the time range of the data available for each buoy, the following page is used from National Data Buoy Center website:\n",
    "https://www.ndbc.noaa.gov/historical_data.shtml#stdmet. It is worth mentioning that we are only interested in Standard Meterological data. To have a better understanding of  Standard Meterological data, look at the information provided here: https://www.ndbc.noaa.gov/measdes.shtml"
   ]
  },
  {
   "cell_type": "code",
   "execution_count": null,
   "metadata": {},
   "outputs": [],
   "source": [
    "source=requests.get('https://www.ndbc.noaa.gov/historical_data.shtml').text\n",
    "soup = BeautifulSoup(source,'lxml')\n",
    "\n",
    "BuoyYearData={}\n",
    "BigTable=soup.find_all('ul')[1]\n",
    "SmallTable=BigTable.li.ul\n",
    "\n",
    "for indx,subtable in enumerate(SmallTable.find_all('li')):\n",
    "    StatName=SmallTable.find_all('li')[indx].text.split('\\n')[0].replace(':','')\n",
    "    est=SmallTable.find_all('li')[indx].text.split('\\n')\n",
    "    tmplist = est[1:]\n",
    "    for indx00,value in enumerate(tmplist):\n",
    "        tmplist[indx00] = tmplist[indx00].strip()\n",
    "    del tmplist[-1]\n",
    "    BuoyYearData[StatName]=tmplist\n",
    "    \n",
    "\n",
    "# Let's add one column for each year to the main dataframe\n",
    "YearsRange = range(1970,2019)\n",
    "df_full = df_full1.copy(deep=True)\n",
    "df_full.set_index(['Station_Name'],inplace=True)\n",
    "for indx, year in enumerate(YearsRange):\n",
    "    df_full[year] = None\n",
    "\n",
    "for indx,StName in enumerate(df_full.index):\n",
    "    first=np.array(df_full.loc[StName][4:].index).astype('int64')\n",
    "    try:\n",
    "        second=np.array(BuoyYearData[StName]).astype('int64')\n",
    "        df_full.loc[StName ,np.intersect1d(first,second)]=1\n",
    "    except:\n",
    "        df_full.loc[StName ,np.intersect1d(first,second)]=None"
   ]
  },
  {
   "cell_type": "code",
   "execution_count": null,
   "metadata": {},
   "outputs": [],
   "source": []
  },
  {
   "cell_type": "code",
   "execution_count": null,
   "metadata": {},
   "outputs": [],
   "source": [
    "# Plotting the buoys with their corresponding owners\n",
    "figmp=folium.Figure(width=1300, height=700)\n",
    "WorldMap_map2 = folium.Map(location=[17.6078, -8.0817],tiles=\"Stamen Toner\",zoom_start=2).add_to(figmp)\n",
    "color=iter(plt.cm.rainbow(np.linspace(0,1,len(Owners))))\n",
    "for indx,owner in enumerate(Owners):\n",
    "    clr=matplotlib.colors.to_hex(next(color))\n",
    "    feature_group = folium.map.FeatureGroup(name=owner)\n",
    "    df_tmp = df_full1[df_full1['Owner']==owner]\n",
    "    buoys=BuoyLocationPlot2(feature_group,WorldMap_map2,df_tmp,clr,clr)\n",
    "    WorldMap_map2.add_child(buoys,name=owner,index=indx)\n",
    "    \n",
    "folium.TileLayer(\"Stamen Toner\").add_to(WorldMap_map2) \n",
    "folium.TileLayer(\"OpenStreetMap\").add_to(WorldMap_map2) \n",
    "folium.TileLayer(\"Stamen Terrain\").add_to(WorldMap_map2)\n",
    "WorldMap_map2.add_child(folium.map.LayerControl())\n",
    "#WorldMap_map2.save(\"WorldMapBuoysOwners.html\")\n",
    "WorldMap_map2"
   ]
  },
  {
   "cell_type": "code",
   "execution_count": null,
   "metadata": {},
   "outputs": [],
   "source": []
  },
  {
   "cell_type": "markdown",
   "metadata": {},
   "source": [
    "### Get the data for a specific time period for all the buoys on the list"
   ]
  },
  {
   "cell_type": "code",
   "execution_count": null,
   "metadata": {
    "scrolled": true
   },
   "outputs": [],
   "source": [
    "from datetime import date, timedelta\n",
    "\n",
    "\n",
    "MonthsNames=['Jan','Feb','Mar','Apr','May','Jun','Jul','Aug','Sep','Oct','Nov','Dec']\n",
    "\n",
    "Year1=input('Enter the first year in the format YYYY: ')\n",
    "Year2=input('Enter the last year in the format YYYY:: ')\n",
    "\n",
    "print('Data starts from the beginning of year {} and ends at the end of year {}'.format(Year1,Year2))\n",
    "\n",
    "date_start = '01Jan'+str(Year1)\n",
    "date_end = '31Dec'+str(Year2)\n",
    "date_st = datetime.strptime(date_start, \"%d%b%Y\")\n",
    "date_en = datetime.strptime(date_end, \"%d%b%Y\")\n",
    "print()\n",
    "print('start date:',date_st)\n",
    "print('end date:',date_en)\n",
    "print('')\n",
    "print('')\n",
    "YearVec = np.linspace(float(Year1),float(Year2),(float(Year2)-float(Year1))+1)\n",
    "print(YearVec)\n",
    "FinalDic={} # to store all the data\n",
    "\n",
    "for yearcnt in range(len(YearVec)):\n",
    "    BYear = str(int(YearVec[yearcnt]))\n",
    "    Months={MonthsNames[0]:str(BYear)+'-01-01 00:00:00',MonthsNames[1]:str(BYear)+'-02-01 00:00:00',MonthsNames[2]:str(BYear)+'-03-01 00:00:00',\n",
    "            MonthsNames[3]:str(BYear)+'-04-01 00:00:00',MonthsNames[4]:str(BYear)+'-05-01 00:00:00',MonthsNames[5]:str(BYear)+'-06-01 00:00:00',\n",
    "            MonthsNames[6]:str(BYear)+'-07-01 00:00:00',MonthsNames[7]:str(BYear)+'-08-01 00:00:00',MonthsNames[8]:str(BYear)+'-09-01 00:00:00',\n",
    "            MonthsNames[9]:str(BYear)+'-10-01 00:00:00',MonthsNames[10]:str(BYear)+'-11-01 00:00:00',MonthsNames[11]:str(BYear)+'-12-01 00:00:00'}\n",
    "\n",
    "\n",
    "    print('')\n",
    "    print('')\n",
    "    print('Year: {}'.format(BYear))\n",
    "    print('')\n",
    "    # To record the data for all the buoys\n",
    "    column_names_tmp = [\"Station_Name\",\"AVG_WDIR_\"+str(BYear), \"AVG_WSPD_\"+str(BYear),\n",
    "                        \"AVG_WVHT_\"+str(BYear), \"AVG_APD_\"+str(BYear), \"AVG_MWD_\"+str(BYear)]\n",
    "    Finaldf = pd.DataFrame(columns = column_names_tmp)\n",
    "\n",
    "    NoData=[] # To record the list of buoys with no data at the time period\n",
    "    count=0\n",
    "    for ii in range(len(df_full.index)):\n",
    "        BName=df_full.index[ii]\n",
    "        print('')\n",
    "        print('Name of the station:'+str(BName))\n",
    "        try: \n",
    "            print(BYear in BuoyYearData[BName])\n",
    "            if (BYear in BuoyYearData[BName]):\n",
    "                print('Available annual data for this buoy:',BuoyYearData[BName])\n",
    "                print('Data is available for buoy '+str(BName))\n",
    "                print(\"Now, let's continue!\")\n",
    "                url = \"https://www.ndbc.noaa.gov/view_text_file.php?filename={}h{}.txt.gz&dir=data/historical/stdmet/\".format(BName.lower(),BYear)\n",
    "                print(\"Downloading the data ...\")\n",
    "                print(url)\n",
    "                df_BName = pd.read_csv(url,na_values=[99,999,9999],delim_whitespace=True, skiprows=range(1,2))\n",
    "                print('Download is done!')\n",
    "\n",
    "                # Concatonates (#YY MM DD hh mm) into one column as DATE\n",
    "                df_BName.rename(columns={'#YY':'year','MM':'month','DD':'day','hh':'hour','mm':'minute'},inplace=True)\n",
    "                df_BName['DATE']=pd.to_datetime(df_BName[['year', 'month', 'day','hour','minute']])\n",
    "                df_BName.drop(columns=['year','month','day','hour','minute'],inplace=True)\n",
    "\n",
    "                df_BName=df_BName.loc[(df_BName['DATE']>=date_st) & (df_BName['DATE']<=date_en)]\n",
    "                df_BName.sort_values(by='DATE',ascending=False,inplace=True)\n",
    "                df_BName.reset_index(drop=True,inplace=True)\n",
    "\n",
    "                listLabels = ['Wind Dir. (deg)', 'Wind speed (m/s)', 'Sign. Wave Height (m)', 'Domi. Wave Period (s)',\\\n",
    "                              'Ave. Wave Period (s)','Wave Dir. (deg)', 'Sea Level Pressure (hPa)','Air Temp. (C)', 'Sea Surface Temp. (C)',\\\n",
    "                              'Dewpoint Temp.','Station Visib. (nautical miles)','Water Level']\n",
    "                df_BName.drop(columns=['GST'],inplace=True)\n",
    "\n",
    "                df_BName=df_BName.dropna(axis=1, how=\"all\")\n",
    "\n",
    "                # Looking at each month\n",
    "                \n",
    "                hours=np.linspace(0,23,num=24)\n",
    "                hrdic ={}\n",
    "                emptydaysinamonth={}\n",
    "                for idd,monthh in enumerate(MonthsNames):\n",
    "                    \n",
    "                    try:\n",
    "                        mask = (df_BName['DATE'] >= Months[MonthsNames[idd]]) & (df_BName['DATE'] < Months[MonthsNames[idd+1]])\n",
    "                    except:\n",
    "                        mask = df_BName['DATE'] >= Months[MonthsNames[idd]]\n",
    "\n",
    "                    df_month=df_BName.loc[mask]\n",
    "                    \n",
    "                    \n",
    "\n",
    "                    try:\n",
    "                        days = pd.date_range(Months[MonthsNames[idd]],Months[MonthsNames[idd+1]],freq='d',closed='left')\n",
    "                    except:\n",
    "                        days = pd.date_range(str(BYear)+'-12-01',str(BYear)+'-12-31',freq='d',closed='left')\n",
    "\n",
    "                    # looking at each day within the month\n",
    "                    emptydays=[]\n",
    "                    \n",
    "                    \n",
    "                    for did,dayy in enumerate(days):\n",
    "\n",
    "                        if (dayy.day not in pd.DatetimeIndex(df_month['DATE']).day):\n",
    "                            emptydays.append(dayy.day)\n",
    "\n",
    "                        else:\n",
    "                            df_day=df_month[pd.DatetimeIndex(df_month['DATE']).day==dayy.day]\n",
    "\n",
    "                            # looking at hours in a day\n",
    "                            boolholder=0\n",
    "                            for idh,hr in enumerate(hours):\n",
    "                                if (hr in pd.DatetimeIndex(df_day['DATE']).hour):\n",
    "                                    boolholder+=1\n",
    "\n",
    "                            if (24-boolholder)>=22:\n",
    "                                emptydays.append(dayy.day)\n",
    "                    \n",
    "                    \n",
    "                    emptydaysinamonth[monthh]=emptydays\n",
    "\n",
    "                    # counting the number of consequetive days\n",
    "                    consdays=np.count_nonzero(np.diff(np.array(emptydaysinamonth[monthh]))==1)\n",
    "                    \n",
    "                                        \n",
    "                    if (len(emptydaysinamonth[monthh])>=11 or consdays>=4):\n",
    "                        #print(idd)\n",
    "                        try:\n",
    "                            df_BName[pd.DatetimeIndex(df_BName[\"DATE\"]).month==idd+1]=None\n",
    "                        except:\n",
    "                            None\n",
    "                                                        \n",
    "\n",
    "\n",
    "                    df_BName=df_BName.dropna(axis=0, how=\"all\")\n",
    "\n",
    "                \n",
    "                if len(pd.DatetimeIndex(df_BName[\"DATE\"]).month.value_counts())>=7:\n",
    "                    Finaldf = Finaldf.append({'Station_Name': BName, \"AVG_WDIR_\"+str(BYear): df_BName[\"WDIR\"].mean() if 'WDIR' in df_BName.columns else None,\n",
    "                                              \"AVG_WSPD_\"+str(BYear): df_BName[\"WSPD\"].mean() if 'WSPD' in df_BName.columns else None,\n",
    "                                              \"AVG_WVHT_\"+str(BYear):df_BName[\"WVHT\"].mean() if 'WVHT' in df_BName.columns else None,\n",
    "                                              \"AVG_APD_\"+str(BYear):df_BName[\"APD\"].mean() if 'APD' in df_BName.columns else None,\n",
    "                                              \"AVG_MWD_\"+str(BYear):df_BName[\"MWD\"].mean() if 'MWD' in df_BName.columns else None}, ignore_index=True)\n",
    "                    \n",
    "                    count=count+1\n",
    "                    print(count)\n",
    "                    \n",
    "                else:\n",
    "                    NoData.append(BName)\n",
    "  \n",
    "                \n",
    "            else:\n",
    "                print('Buoy '+str(BName)+' has no data recorded for this period.')\n",
    "        except:\n",
    "            print('Buoy '+str(BName)+' has no data recorded for this period.')\n",
    "            NoData.append(BName) # Stores the name of the buoys with no recorded data\n",
    "            \n",
    "    FinalDic[BYear]=Finaldf"
   ]
  },
  {
   "cell_type": "code",
   "execution_count": null,
   "metadata": {},
   "outputs": [],
   "source": [
    "FinalDic['2019'].head(10)"
   ]
  },
  {
   "cell_type": "code",
   "execution_count": null,
   "metadata": {},
   "outputs": [],
   "source": [
    "# Cleaning up and finilizing the data\n",
    "FinalDic_analysis={}\n",
    "for yearcnt in range(len(YearVec)):\n",
    "    BYear = str(int(YearVec[yearcnt]))\n",
    "    # Data that we are Not interested in\n",
    "    FinalDic_analysis[BYear]=FinalDic[BYear].drop(columns=['AVG_MWD_'+str(BYear),'AVG_WDIR_'+str(BYear)])\n",
    "    # A dataframe without Nan values\n",
    "    FinalDic_analysis[BYear]=FinalDic_analysis[BYear].dropna(axis=0)\n",
    "    print(FinalDic_analysis[BYear].head())\n",
    "    print('Number of data points {}'.format(FinalDic_analysis[BYear].count()))\n",
    "    print('')\n",
    "    print('')\n",
    "    "
   ]
  },
  {
   "cell_type": "code",
   "execution_count": null,
   "metadata": {},
   "outputs": [],
   "source": [
    "np.flip(YearVec)"
   ]
  },
  {
   "cell_type": "code",
   "execution_count": null,
   "metadata": {},
   "outputs": [],
   "source": [
    "# Joining the data frames based on the common stations between the frames\n",
    "\n",
    "# First data frame\n",
    "DF_Total_1=FinalDic_analysis[str(Year1)]\n",
    "for yearcnt in range(len(YearVec)):\n",
    "    BYear = int(YearVec[yearcnt])\n",
    "    try:\n",
    "        print(BYear)\n",
    "        print(FinalDic_analysis[str(BYear)].head())\n",
    "        print('')\n",
    "        DF_Total_1 = pd.merge(DF_Total_1,FinalDic_analysis[str(BYear+1)],on='Station_Name',how='outer')\n",
    "    except:\n",
    "        print('Done!')\n",
    "DF_Total_1.head(20)\n",
    "\n",
    "\n",
    "# Second data frame\n",
    "YearVec_2=np.flip(YearVec)\n",
    "DF_Total_2=FinalDic_analysis[str(Year1)]\n",
    "for yearcnt in range(len(YearVec_2)):\n",
    "    BYear = int(YearVec_2[yearcnt])\n",
    "    try:\n",
    "        print(BYear)\n",
    "        print(FinalDic_analysis[str(BYear)].head())\n",
    "        print('')\n",
    "        DF_Total_2 = pd.merge(DF_Total_2,FinalDic_analysis[str(BYear+1)],on='Station_Name',how='outer')\n",
    "    except:\n",
    "        print('Done!')\n",
    "DF_Total_2.head(20)\n"
   ]
  },
  {
   "cell_type": "code",
   "execution_count": null,
   "metadata": {},
   "outputs": [],
   "source": [
    "# Drop the rows with NaN values\n",
    "DF_Total_1=DF_Total_1.dropna(axis=0)\n",
    "print(len(DF_Total_1.index))\n",
    "print(DF_Total_1.head())\n",
    "\n",
    "# Drop the rows with NaN values\n",
    "DF_Total_2=DF_Total_2.dropna(axis=0)\n",
    "print(len(DF_Total_2.index))\n",
    "print(DF_Total_2.head())\n"
   ]
  },
  {
   "cell_type": "code",
   "execution_count": null,
   "metadata": {},
   "outputs": [],
   "source": [
    "DF_Total = DF_Total_2.copy()"
   ]
  },
  {
   "cell_type": "code",
   "execution_count": null,
   "metadata": {},
   "outputs": [],
   "source": []
  },
  {
   "cell_type": "markdown",
   "metadata": {},
   "source": [
    "## 4. Exploratory Data Analysis <a class=\"anchor\" id=\"30\"></a>"
   ]
  },
  {
   "cell_type": "markdown",
   "metadata": {},
   "source": [
    "\n",
    "Let's take a look at the general where the information for all five parameters AVG_WDIR, AVG_WSPD, AVG_WVHT, and AVG_ADP, AVG_MWD.\n",
    "\n",
    "__WDIR__: Wind direction (the direction the wind is coming from in degrees clockwise from true N) during the same period used for WSPD\n",
    "\n",
    "__WSPD__: Wind speed (m/s) averaged over an eight-minute period for buoys and a two-minute period for land stations. Reported Hourly. \n",
    "\n",
    "__WVHT__: Significant wave height (meters) is calculated as the average of the highest one-third of all of the wave heights during the 20-minute sampling period.\n",
    "\n",
    "__APD__: Average wave period (seconds) of all waves during the 20-minute period.\n",
    "\n",
    "__MWD__: The direction from which the waves at the dominant period (DPD) are coming. The units are degrees from true North, increasing clockwise, with North as 0 (zero) degrees and East as 90 degrees. \n"
   ]
  },
  {
   "cell_type": "code",
   "execution_count": null,
   "metadata": {},
   "outputs": [],
   "source": [
    "print('Number of remaining stations without any nan values for {} features mentioned above are {}'.format(len(DF_Total.columns)-1,len(DF_Total.index))  )"
   ]
  },
  {
   "cell_type": "markdown",
   "metadata": {},
   "source": [
    "Let's see how each of these features change and whether they are similar over a span of five years"
   ]
  },
  {
   "cell_type": "code",
   "execution_count": null,
   "metadata": {
    "scrolled": true
   },
   "outputs": [],
   "source": [
    "# For wind speed\n",
    "sns.set(font_scale=2)\n",
    "NClm=5\n",
    "NRow=2\n",
    "fig, axes = plt.subplots(nrows=5,ncols=2,figsize=(20, 40))\n",
    "Yearplt1Vec=np.array([2015,2015,2015,2015,2016,2016,2016,2017,2017,2018])\n",
    "Yearplt2Vec=np.array([2016,2017,2018,2019,2017,2018,2019,2018,2019,2019])\n",
    "\n",
    "for ii,axx in enumerate(axes.flatten()):\n",
    "    Yearplt1=Yearplt1Vec[ii]\n",
    "    Yearplt2=Yearplt2Vec[ii]\n",
    "    sns.scatterplot(x=\"AVG_WSPD_\"+str(int(Yearplt1)), y=\"AVG_WSPD_\"+str(int(Yearplt2)),data=DF_Total, s=150 ,ax=axx)\n",
    "    axx.set_xlabel('Ave Wind Speed [{}] (m/s)'.format(int(Yearplt1)),fontsize=20)\n",
    "    axx.set_ylabel('Ave Wind Speed [{}] (m/s)'.format(int(Yearplt2)),fontsize=20)\n",
    "        \n",
    "\n",
    "    \n",
    "plt.savefig('Wind_20152016201720182019.eps',bbox_inches='tight',dpi=300)"
   ]
  },
  {
   "cell_type": "code",
   "execution_count": null,
   "metadata": {
    "scrolled": true
   },
   "outputs": [],
   "source": [
    "# For Wave Height\n",
    "sns.set(font_scale=2)\n",
    "NClm=5\n",
    "NRow=2\n",
    "fig, axes = plt.subplots(nrows=5,ncols=2,figsize=(20, 40))\n",
    "Yearplt1Vec=np.array([2015,2015,2015,2015,2016,2016,2016,2017,2017,2018])\n",
    "Yearplt2Vec=np.array([2016,2017,2018,2019,2017,2018,2019,2018,2019,2019])\n",
    "#clmn=0\n",
    "for ii,axx in enumerate(axes.flatten()):\n",
    "    Yearplt1=Yearplt1Vec[ii]\n",
    "    Yearplt2=Yearplt2Vec[ii]\n",
    "    sns.scatterplot(x=\"AVG_WVHT_\"+str(int(Yearplt1)), y=\"AVG_WVHT_\"+str(int(Yearplt2)),data=DF_Total, s=150 ,ax=axx)\n",
    "    axx.set_xlabel('Ave Wave Height [{}] (m)'.format(int(Yearplt1)),fontsize=20)\n",
    "    axx.set_ylabel('Ave Wave Height [{}] (m)'.format(int(Yearplt2)),fontsize=20)\n",
    "    \n",
    "    \n",
    "plt.savefig('WaveHeight_20152016201720182019.eps',bbox_inches='tight',dpi=300)"
   ]
  },
  {
   "cell_type": "code",
   "execution_count": null,
   "metadata": {
    "scrolled": true
   },
   "outputs": [],
   "source": [
    "# For Wave Period\n",
    "sns.set(font_scale=2)\n",
    "NClm=5\n",
    "NRow=2\n",
    "fig, axes = plt.subplots(nrows=5,ncols=2,figsize=(20, 40))\n",
    "Yearplt1Vec=np.array([2015,2015,2015,2015,2016,2016,2016,2017,2017,2018])\n",
    "Yearplt2Vec=np.array([2016,2017,2018,2019,2017,2018,2019,2018,2019,2019])\n",
    "#clmn=0\n",
    "for ii,axx in enumerate(axes.flatten()):\n",
    "    Yearplt1=Yearplt1Vec[ii]\n",
    "    Yearplt2=Yearplt2Vec[ii]\n",
    "    sns.scatterplot(x=\"AVG_APD_\"+str(int(Yearplt1)), y=\"AVG_APD_\"+str(int(Yearplt2)),data=DF_Total, s=150 ,ax=axx)\n",
    "    axx.set_xlabel('Ave Wave Period [{}] (s)'.format(int(Yearplt1)),fontsize=20)\n",
    "    axx.set_ylabel('Ave Wave Period [{}] (s)'.format(int(Yearplt2)),fontsize=20)\n",
    "    \n",
    "\n",
    "plt.savefig('WavePeriod_20152016201720182019.eps',bbox_inches='tight',dpi=300)"
   ]
  },
  {
   "cell_type": "code",
   "execution_count": null,
   "metadata": {},
   "outputs": [],
   "source": []
  },
  {
   "cell_type": "code",
   "execution_count": null,
   "metadata": {},
   "outputs": [],
   "source": [
    "# Plotting the stations with the recorded data\n",
    "df_analysis_modplot=pd.merge(DF_Total, df_full1, on='Station_Name')\n",
    "\n",
    "feature_group = folium.map.FeatureGroup()\n",
    "\n",
    "figmp=folium.Figure(width=1300, height=700)\n",
    "WorldMap_map3 = folium.Map(location=[17.6078, -8.0817],tiles=\"Stamen Toner\",zoom_start=2).add_to(figmp)\n",
    "color=iter(plt.cm.rainbow(np.linspace(0,1,len(df_analysis_modplot.Station_Name))))\n",
    "\n",
    "buoys=BuoyLocationPlot2(feature_group,WorldMap_map3,df_analysis_modplot,'red','blue')\n",
    "WorldMap_map3.add_child(buoys,name=owner,index=indx)\n",
    "    \n",
    "folium.TileLayer(\"Stamen Toner\").add_to(WorldMap_map3) \n",
    "folium.TileLayer(\"OpenStreetMap\").add_to(WorldMap_map3) \n",
    "folium.TileLayer(\"Stamen Terrain\").add_to(WorldMap_map3)\n",
    "WorldMap_map3.add_child(folium.map.LayerControl())\n",
    "WorldMap_map3.save(\"WorldMapBuoysAnalysis.html\")\n",
    "WorldMap_map3"
   ]
  },
  {
   "cell_type": "code",
   "execution_count": null,
   "metadata": {},
   "outputs": [],
   "source": []
  },
  {
   "cell_type": "markdown",
   "metadata": {},
   "source": [
    "## 5. Model Development and Evaluation <a class=\"anchor\" id=\"40\"></a>"
   ]
  },
  {
   "cell_type": "markdown",
   "metadata": {},
   "source": [
    "## 5.1 K-Means Clustering <a class=\"anchor\" id=\"45\"></a>"
   ]
  },
  {
   "cell_type": "markdown",
   "metadata": {},
   "source": [
    "Since we have variables with different ranges, let's normalize the data"
   ]
  },
  {
   "cell_type": "code",
   "execution_count": null,
   "metadata": {},
   "outputs": [],
   "source": [
    "from sklearn.preprocessing import StandardScaler\n",
    "from sklearn.cluster import KMeans\n",
    "from sklearn.metrics import silhouette_samples, silhouette_score\n",
    "from sklearn.metrics import accuracy_score\n",
    "import matplotlib.cm as cm\n",
    "import matplotlib.colors as colors"
   ]
  },
  {
   "cell_type": "code",
   "execution_count": null,
   "metadata": {},
   "outputs": [],
   "source": [
    "Feaures=StandardScaler().fit_transform(DF_Total)"
   ]
  },
  {
   "cell_type": "markdown",
   "metadata": {},
   "source": [
    "First, we need to determine the right value for __k__. To do so, we have two possible approaches:\n",
    "\n",
    "- **Elbow Method**\n",
    "- **Silhouette analysis**"
   ]
  },
  {
   "cell_type": "markdown",
   "metadata": {},
   "source": [
    "__Elbow method__ gives us an idea on what a good k number of clusters would be based on the sum of squared distance (SSE) between data points and their assigned clusters’ centroids. We pick k at the spot where SSE starts to flatten out and forming an elbow. We evaluate SSE for different values of k and see where the curve might form an elbow and flatten out."
   ]
  },
  {
   "cell_type": "code",
   "execution_count": null,
   "metadata": {},
   "outputs": [],
   "source": [
    "# Elbow method to find the best k value\n",
    "sse = []\n",
    "list_k = list(range(1, 20))\n",
    "\n",
    "for k in list_k:\n",
    "    km = KMeans(init = \"k-means++\",n_clusters=k)\n",
    "    km.fit(Feaures)\n",
    "    sse.append(km.inertia_)\n",
    "\n",
    "# Plot sse against k\n",
    "plt.figure(figsize=(7, 5))\n",
    "plt.plot(list_k, sse, '-o', markersize=10, linewidth=4)\n",
    "plt.xlabel(r'Number of clusters [k]')\n",
    "plt.ylabel('SSE');\n",
    "\n",
    "#plt.savefig('ElbowMethod.png',bbox_inches='tight',dpi=300)"
   ]
  },
  {
   "cell_type": "markdown",
   "metadata": {},
   "source": [
    "If we do not see a clear elbow shape using this method to determine the value of k, let's try Silhouette analysis. **Silhouette analysis** can be used to determine the degree of separation between clusters. For each sample:\n",
    "- Compute the average distance from all data points in the same cluster (ai).\n",
    "- Compute the average distance from all data points in the closest cluster (bi).\n",
    "- Compute the coefficient.\n",
    "\n",
    "The coefficient can take values in the interval [-1, 1].\n",
    "- If  0 : the sample is very close to the neighboring clusters.\n",
    "- If  1 : the sample is far away from the neighboring clusters.\n",
    "- If -1 : the sample is assigned to the wrong clusters.\n",
    "\n",
    "Therefore, we want the coefficients to be as big as possible and close to 1 to have good clusters. See the full explanation here: https://towardsdatascience.com/k-means-clustering-algorithm-applications-evaluation-methods-and-drawbacks-aa03e644b48a"
   ]
  },
  {
   "cell_type": "code",
   "execution_count": null,
   "metadata": {},
   "outputs": [],
   "source": [
    "fig, axs = plt.subplots(2, 3, figsize=(30, 15))\n",
    "axs = axs.ravel()\n",
    "#fig.subplots_adjust(hspace = .5, wspace=.2)\n",
    "\n",
    "for i, k in enumerate([2, 3, 4, 5, 6, 7]):\n",
    "    # Run the Kmeans algorithm\n",
    "    km = KMeans(init = \"k-means++\",n_clusters=k)\n",
    "    labels = km.fit_predict(Feaures)\n",
    "    centroids = km.cluster_centers_\n",
    "\n",
    "    # Get silhouette samples\n",
    "    silhouette_vals = silhouette_samples(Feaures, labels)\n",
    "\n",
    "    # Silhouette plot\n",
    "    y_ticks = []\n",
    "    y_lower, y_upper = 0, 0\n",
    "    for ii, cluster in enumerate(np.unique(labels)):\n",
    "        cluster_silhouette_vals = silhouette_vals[labels == cluster]\n",
    "        cluster_silhouette_vals.sort()\n",
    "        y_upper += len(cluster_silhouette_vals)\n",
    "        axs[i].barh(range(y_lower, y_upper), cluster_silhouette_vals, edgecolor='none', height=1)\n",
    "        axs[i].text(-0.05, (y_lower + y_upper) / 2, str(ii + 1))\n",
    "        y_lower += len(cluster_silhouette_vals)\n",
    "\n",
    "    # Get the average silhouette score and plot it\n",
    "    avg_score = np.mean(silhouette_vals)\n",
    "    axs[i].axvline(avg_score, linestyle='--', linewidth=2, color='green')\n",
    "    axs[i].set_yticks([])\n",
    "    axs[i].set_xlim([-0.1, 1])\n",
    "    axs[i].set_xlabel('Silhouette coefficient values')\n",
    "    axs[i].set_ylabel('Cluster labels')\n",
    "\n",
    "#plt.savefig('Silhouette.png',bbox_inches='tight',dpi=300)"
   ]
  },
  {
   "cell_type": "code",
   "execution_count": null,
   "metadata": {},
   "outputs": [],
   "source": [
    "# let's choose k=5\n",
    "kclusters=5\n",
    "# run k-means clustering\n",
    "kmeans = KMeans(init = \"k-means++\",n_clusters=kclusters, random_state=0).fit(Feaures)\n",
    "# check cluster labels generated for each row in the dataframe\n",
    "print(kmeans.labels_[0:10])"
   ]
  },
  {
   "cell_type": "code",
   "execution_count": null,
   "metadata": {},
   "outputs": [],
   "source": [
    "# add clustering labels to the data frame\n",
    "try:\n",
    "    DF_Total.insert(0, 'Cluster Labels', kmeans.labels_)\n",
    "except:\n",
    "    DF_Total['Cluster Labels']=kmeans.labels_\n",
    "    \n",
    "DF_Total.head()"
   ]
  },
  {
   "cell_type": "code",
   "execution_count": null,
   "metadata": {},
   "outputs": [],
   "source": [
    "# create map\n",
    "df_analysis_modKMeansplot=pd.merge(DF_Total, df_full1, on='Station_Name')\n",
    "\n",
    "map_clusters = folium.Map(location=[17.6078, -8.0817], tiles=\"Stamen Toner\", zoom_start=2)\n",
    "\n",
    "# set color scheme for the clusters\n",
    "x = np.arange(kclusters)\n",
    "ys = [i + x + (i*x)**2 for i in range(kclusters)]\n",
    "colors_array = cm.rainbow(np.linspace(0, 1, len(ys)))\n",
    "rainbow = [colors.rgb2hex(i) for i in colors_array]\n",
    "\n",
    "# add markers to the map\n",
    "markers_colors = []\n",
    "for lat, lon, poi, cluster in zip(df_analysis_modKMeansplot['Longitude'], df_analysis_modKMeansplot['Latitude'], df_analysis_modKMeansplot['Station_Name'], df_analysis_modKMeansplot['Cluster Labels']):\n",
    "    label = folium.Popup(str(poi) + ' Cluster ' + str(cluster), parse_html=True)\n",
    "    folium.CircleMarker(\n",
    "        [lat, lon],\n",
    "        radius=5,\n",
    "        popup=label,\n",
    "        color=rainbow[cluster-1],\n",
    "        fill=True,\n",
    "        fill_color=rainbow[cluster-1],\n",
    "        fill_opacity=0.7).add_to(map_clusters)\n",
    "       \n",
    "map_clusters.save(\"WorldMapBuoysAnalysis_Clustering_5years.html\")\n",
    "map_clusters"
   ]
  },
  {
   "cell_type": "code",
   "execution_count": null,
   "metadata": {},
   "outputs": [],
   "source": [
    "df_analysis_modKMeansplot.head()"
   ]
  },
  {
   "cell_type": "code",
   "execution_count": null,
   "metadata": {
    "scrolled": true
   },
   "outputs": [],
   "source": [
    "df_clust_I = DF_Total[DF_Total['Cluster Labels']==0]\n",
    "print('Stations in Cluster I:')\n",
    "print(df_clust_I.Station_Name)\n",
    "print()\n",
    "df_clust_II = DF_Total[DF_Total['Cluster Labels']==1]\n",
    "print('Stations in Cluster II:')\n",
    "print(df_clust_II.Station_Name)\n",
    "print()\n",
    "df_clust_III = DF_Total[DF_Total['Cluster Labels']==2]\n",
    "print('Stations in Cluster III:')\n",
    "print(df_clust_III.Station_Name)\n",
    "print()\n",
    "df_clust_IV = DF_Total[DF_Total['Cluster Labels']==3]\n",
    "print('Stations in Cluster IV:')\n",
    "print(df_clust_IV.Station_Name)\n",
    "print()\n",
    "df_clust_V = DF_Total[DF_Total['Cluster Labels']==4]\n",
    "print('Stations in Cluster V:')\n",
    "print(df_clust_V.Station_Name)\n"
   ]
  },
  {
   "cell_type": "code",
   "execution_count": null,
   "metadata": {},
   "outputs": [],
   "source": []
  },
  {
   "cell_type": "code",
   "execution_count": null,
   "metadata": {},
   "outputs": [],
   "source": []
  },
  {
   "cell_type": "code",
   "execution_count": null,
   "metadata": {
    "scrolled": true
   },
   "outputs": [],
   "source": [
    "print('Mean values for cluster I:')\n",
    "print(df_clust_I[['AVG_WSPD_2015','AVG_WSPD_2016','AVG_WSPD_2017','AVG_WSPD_2018','AVG_WSPD_2019',\n",
    "                   'AVG_WVHT_2015','AVG_WVHT_2016','AVG_WVHT_2017','AVG_WVHT_2018','AVG_WVHT_2019',\n",
    "                   'AVG_APD_2015','AVG_APD_2016','AVG_APD_2017','AVG_APD_2018','AVG_APD_2019']].mean())\n",
    "print('')\n",
    "print('Mean values for cluster II:')\n",
    "print(df_clust_II[['AVG_WSPD_2015','AVG_WSPD_2016','AVG_WSPD_2017','AVG_WSPD_2018','AVG_WSPD_2019',\n",
    "                   'AVG_WVHT_2015','AVG_WVHT_2016','AVG_WVHT_2017','AVG_WVHT_2018','AVG_WVHT_2019',\n",
    "                   'AVG_APD_2015','AVG_APD_2016','AVG_APD_2017','AVG_APD_2018','AVG_APD_2019']].mean())\n",
    "print('')\n",
    "print('Mean values for cluster III:')\n",
    "print(df_clust_III[['AVG_WSPD_2015','AVG_WSPD_2016','AVG_WSPD_2017','AVG_WSPD_2018','AVG_WSPD_2019',\n",
    "                   'AVG_WVHT_2015','AVG_WVHT_2016','AVG_WVHT_2017','AVG_WVHT_2018','AVG_WVHT_2019',\n",
    "                   'AVG_APD_2015','AVG_APD_2016','AVG_APD_2017','AVG_APD_2018','AVG_APD_2019']].mean())\n",
    "print('')\n",
    "print('Mean values for cluster IV:')\n",
    "print(df_clust_IV[['AVG_WSPD_2015','AVG_WSPD_2016','AVG_WSPD_2017','AVG_WSPD_2018','AVG_WSPD_2019',\n",
    "                   'AVG_WVHT_2015','AVG_WVHT_2016','AVG_WVHT_2017','AVG_WVHT_2018','AVG_WVHT_2019',\n",
    "                   'AVG_APD_2015','AVG_APD_2016','AVG_APD_2017','AVG_APD_2018','AVG_APD_2019']].mean())\n",
    "print('')\n",
    "print('Mean values for cluster V:')\n",
    "print(df_clust_V[['AVG_WSPD_2015','AVG_WSPD_2016','AVG_WSPD_2017','AVG_WSPD_2018','AVG_WSPD_2019',\n",
    "                   'AVG_WVHT_2015','AVG_WVHT_2016','AVG_WVHT_2017','AVG_WVHT_2018','AVG_WVHT_2019',\n",
    "                   'AVG_APD_2015','AVG_APD_2016','AVG_APD_2017','AVG_APD_2018','AVG_APD_2019']].mean())\n"
   ]
  },
  {
   "cell_type": "code",
   "execution_count": null,
   "metadata": {},
   "outputs": [],
   "source": [
    "# Add bar chart for each cluster\n",
    "lablelist=['AVG_WSPD_2015','AVG_WSPD_2016','AVG_WSPD_2017','AVG_WSPD_2018','AVG_WSPD_2019',\n",
    "           'AVG_WVHT_2015','AVG_WVHT_2016','AVG_WVHT_2017','AVG_WVHT_2018','AVG_WVHT_2019',\n",
    "           'AVG_APD_2015','AVG_APD_2016','AVG_APD_2017','AVG_APD_2018','AVG_APD_2019']\n",
    "DF_Total[lablelist] = DF_Total[lablelist].apply(pd.to_numeric)\n"
   ]
  },
  {
   "cell_type": "code",
   "execution_count": null,
   "metadata": {},
   "outputs": [],
   "source": [
    "# Bar chart\n",
    "DF_plotbar=pd.DataFrame(columns=DF_Total.columns)\n",
    "for ii,clmname in enumerate(lablelist):\n",
    "    DF_plotbar[clmname]=DF_Total.groupby('Cluster Labels')[clmname].mean()\n",
    "# drop station name and cluster labels columns (cluster labels is now the index column)\n",
    "DF_plotbar=DF_plotbar.dropna(axis=1, how=\"all\")\n",
    "DF_plotbar.reset_index(inplace=True)\n",
    "DF_plotbar"
   ]
  },
  {
   "cell_type": "code",
   "execution_count": null,
   "metadata": {
    "scrolled": false
   },
   "outputs": [],
   "source": [
    "#barplt=sns.barplot(x=\"Cluster Labels\",y=lablelist,data=DF_plotbar)\n",
    "DF_plotbar.set_index('Cluster Labels')[['AVG_WSPD_2015','AVG_WSPD_2016','AVG_WSPD_2017','AVG_WSPD_2018','AVG_WSPD_2019']].plot(kind='bar', figsize=(20, 12))\n",
    "plt.xticks([0, 1, 2, 3, 4],['1','2','3','4','5'],rotation=0)\n",
    "plt.xlabel(\"Clusters\", labelpad=15)\n",
    "plt.ylabel(\"Average Wind Speed (m/s)\", labelpad=15)\n",
    "plt.legend(['2015','2016','2017','2018','2019'], fontsize=20, title=\"Year\");\n",
    "plt.savefig('WindClusters.eps',bbox_inches='tight',dpi=300)\n",
    "\n",
    "\n",
    "DF_plotbar.set_index('Cluster Labels')[['AVG_WVHT_2015','AVG_WVHT_2016','AVG_WVHT_2017','AVG_WVHT_2018','AVG_WVHT_2019']].plot(kind='bar', figsize=(20, 12))\n",
    "plt.xticks([0, 1, 2, 3, 4],['1','2','3','4','5'],rotation=0)\n",
    "plt.xticks(rotation=0)\n",
    "plt.xlabel(\"Clusters\", labelpad=15)\n",
    "plt.ylabel(\"Average Wave Height (m)\", labelpad=15)\n",
    "plt.legend(['2015','2016','2017','2018','2019'], fontsize=20, title=\"Year\");\n",
    "plt.savefig('WaveHeightClusters.eps',bbox_inches='tight',dpi=300)\n",
    "\n",
    "\n",
    "DF_plotbar.set_index('Cluster Labels')[['AVG_APD_2015','AVG_APD_2016','AVG_APD_2017','AVG_APD_2018','AVG_APD_2019']].plot(kind='bar', figsize=(20, 12))\n",
    "plt.xticks([0, 1, 2, 3, 4],['1','2','3','4','5'],rotation=0)\n",
    "plt.xlabel(\"Clusters\", labelpad=15)\n",
    "plt.ylabel(\"Average Wave Period (s)\", labelpad=15)\n",
    "plt.legend(['2015','2016','2017','2018','2019'], fontsize=20, title=\"Year\");\n",
    "plt.savefig('WavePeriodClusters.eps',bbox_inches='tight',dpi=300)\n"
   ]
  },
  {
   "cell_type": "code",
   "execution_count": null,
   "metadata": {},
   "outputs": [],
   "source": [
    "DF_Total.head()"
   ]
  },
  {
   "cell_type": "code",
   "execution_count": null,
   "metadata": {},
   "outputs": [],
   "source": [
    "# Line Plots\n",
    "df_linePlotsWind = DF_Total[[\"Cluster Labels\",\"AVG_WSPD_2015\",\"AVG_WSPD_2016\",\"AVG_WSPD_2017\",\"AVG_WSPD_2018\",\"AVG_WSPD_2019\"]]\n",
    "print(df_linePlotsWind.head())\n",
    "df_linePlotsWHT = DF_Total[[\"Cluster Labels\",\"AVG_WVHT_2015\",\"AVG_WVHT_2016\",\"AVG_WVHT_2017\",\"AVG_WVHT_2018\",\"AVG_WVHT_2019\"]]\n",
    "print(df_linePlotsWHT.head())\n",
    "df_linePlotsWPr = DF_Total[[\"Cluster Labels\",\"AVG_APD_2015\",\"AVG_APD_2016\",\"AVG_APD_2017\",\"AVG_APD_2018\",\"AVG_APD_2019\"]]\n",
    "print(df_linePlotsWPr.head())"
   ]
  },
  {
   "cell_type": "code",
   "execution_count": null,
   "metadata": {},
   "outputs": [],
   "source": []
  },
  {
   "cell_type": "code",
   "execution_count": null,
   "metadata": {},
   "outputs": [],
   "source": [
    "df_linePlotsWindGrouped=df_linePlotsWind.groupby(['Cluster Labels']).mean()\n",
    "df_linePlotsWindGroupedplt=df_linePlotsWindGrouped.T.reset_index()\n",
    "df_linePlotsWindGroupedplt.columns=['Years','Cluster 1','Cluster 2','Cluster 3','Cluster 4','Cluster 5']\n",
    "df_linePlotsWindGroupedplt[[\"Years\"]]=YearVec\n",
    "\n",
    "df_linePlotsWindGroupedSTD=df_linePlotsWind.groupby(['Cluster Labels']).std()\n",
    "df_linePlotsWindGroupedpltSTD=df_linePlotsWindGroupedSTD.T.reset_index()\n",
    "df_linePlotsWindGroupedpltSTD.columns=['Years','Cluster 1','Cluster 2','Cluster 3','Cluster 4','Cluster 5']\n",
    "df_linePlotsWindGroupedpltSTD[[\"Years\"]]=YearVec\n",
    "\n",
    "print(df_linePlotsWindGroupedplt)\n",
    "\n",
    "fig,ax = plt.subplots()\n",
    "for yvalue in ['Cluster 1','Cluster 2','Cluster 3','Cluster 4','Cluster 5']:\n",
    "    df_linePlotsWindGroupedplt.plot.line(y=yvalue,x=\"Years\",figsize=(12,6),marker='o',linewidth=3, markersize=12,label=yvalue,ax=ax)\n",
    "    ax.fill_between(df_linePlotsWindGroupedplt.Years, df_linePlotsWindGroupedplt[yvalue] - df_linePlotsWindGroupedpltSTD[yvalue], df_linePlotsWindGroupedplt[yvalue] + df_linePlotsWindGroupedpltSTD[yvalue], alpha=0.35)\n",
    "    \n",
    "ax.set_xticks(ax.get_xticks()[::2])\n",
    "ax.set_xlabel(\"Year\")\n",
    "ax.set_ylabel(\"Wind Speed (m/s)\")\n",
    "ax.legend(['Cluster I','Cluster II','Cluster III','Cluster IV','Cluster V'],loc='best',fontsize=15)\n",
    "\n",
    "plt.savefig('WindSpeedClusters_LinePlots.png',bbox_inches='tight',dpi=300)\n"
   ]
  },
  {
   "cell_type": "code",
   "execution_count": null,
   "metadata": {},
   "outputs": [],
   "source": [
    "df_linePlotsWHTGrouped=df_linePlotsWHT.groupby(['Cluster Labels']).mean()\n",
    "df_linePlotsWHTGroupedplt=df_linePlotsWHTGrouped.T.reset_index()\n",
    "df_linePlotsWHTGroupedplt.columns=['Years','Cluster 1','Cluster 2','Cluster 3','Cluster 4','Cluster 5']\n",
    "df_linePlotsWHTGroupedplt[[\"Years\"]]=YearVec\n",
    "\n",
    "df_linePlotsWHTGroupedSTD=df_linePlotsWHT.groupby(['Cluster Labels']).std()\n",
    "df_linePlotsWHTGroupedpltSTD=df_linePlotsWHTGroupedSTD.T.reset_index()\n",
    "df_linePlotsWHTGroupedpltSTD.columns=['Years','Cluster 1','Cluster 2','Cluster 3','Cluster 4','Cluster 5']\n",
    "df_linePlotsWHTGroupedpltSTD[[\"Years\"]]=YearVec\n",
    "\n",
    "print(df_linePlotsWHTGroupedplt)\n",
    "\n",
    "fig,ax = plt.subplots()\n",
    "for yvalue in ['Cluster 1','Cluster 2','Cluster 3','Cluster 4','Cluster 5']:\n",
    "    df_linePlotsWHTGroupedplt.plot.line(y=yvalue,x=\"Years\",figsize=(12,6),marker='o',linewidth=3, markersize=12,label=yvalue,ax=ax)\n",
    "    ax.fill_between(df_linePlotsWHTGroupedplt.Years, df_linePlotsWHTGroupedplt[yvalue] - df_linePlotsWHTGroupedpltSTD[yvalue], df_linePlotsWHTGroupedplt[yvalue] + df_linePlotsWHTGroupedpltSTD[yvalue], alpha=0.35)\n",
    "    \n",
    "ax.set_xticks(ax.get_xticks()[::2])\n",
    "ax.set_xlabel(\"Year\")\n",
    "ax.set_ylabel(\"Wave Height (m)\")\n",
    "ax.legend(['Cluster I','Cluster II','Cluster III','Cluster IV','Cluster V'],loc='best',fontsize=15)\n",
    "\n",
    "plt.savefig('WaveHeightClusters_LinePlot.png',bbox_inches='tight',dpi=300)"
   ]
  },
  {
   "cell_type": "code",
   "execution_count": null,
   "metadata": {},
   "outputs": [],
   "source": [
    "df_linePlotsWPrGrouped=df_linePlotsWPr.groupby(['Cluster Labels']).mean()\n",
    "df_linePlotsWPrGroupedplt=df_linePlotsWPrGrouped.T.reset_index()\n",
    "df_linePlotsWPrGroupedplt.columns=['Years','Cluster 1','Cluster 2','Cluster 3','Cluster 4','Cluster 5']\n",
    "df_linePlotsWPrGroupedplt[[\"Years\"]]=YearVec\n",
    "\n",
    "df_linePlotsWPrGroupedSTD=df_linePlotsWPr.groupby(['Cluster Labels']).std()\n",
    "df_linePlotsWPrGroupedpltSTD=df_linePlotsWPrGroupedSTD.T.reset_index()\n",
    "df_linePlotsWPrGroupedpltSTD.columns=['Years','Cluster 1','Cluster 2','Cluster 3','Cluster 4','Cluster 5']\n",
    "df_linePlotsWPrGroupedpltSTD[[\"Years\"]]=YearVec\n",
    "\n",
    "print(df_linePlotsWPrGroupedplt)\n",
    "\n",
    "fig,ax = plt.subplots()\n",
    "for yvalue in ['Cluster 1','Cluster 2','Cluster 3','Cluster 4','Cluster 5']:\n",
    "    df_linePlotsWPrGroupedplt.plot.line(y=yvalue,x=\"Years\",figsize=(12,6),marker='o',linewidth=3, markersize=12,label=yvalue,ax=ax)\n",
    "    ax.fill_between(df_linePlotsWPrGroupedplt.Years, df_linePlotsWPrGroupedplt[yvalue] - df_linePlotsWPrGroupedpltSTD[yvalue], df_linePlotsWPrGroupedplt[yvalue] + df_linePlotsWPrGroupedpltSTD[yvalue], alpha=0.35)\n",
    "    \n",
    "    \n",
    "ax.set_xticks(ax.get_xticks()[::2])\n",
    "ax.set_xlabel(\"Year\")\n",
    "ax.set_ylabel(\"Wave Period (s)\")\n",
    "ax.legend(['Cluster I','Cluster II','Cluster III','Cluster IV','Cluster V'],loc='best',fontsize=15)\n",
    "\n",
    "plt.savefig('WavePeriodClusters_LinePlot.png',bbox_inches='tight',dpi=300)"
   ]
  },
  {
   "cell_type": "code",
   "execution_count": null,
   "metadata": {},
   "outputs": [],
   "source": []
  },
  {
   "cell_type": "code",
   "execution_count": null,
   "metadata": {},
   "outputs": [],
   "source": [
    "df_clust_I_table=df_clust_I.astype('float64')\n",
    "df_clust_I_table[['AVG_WSPD_2019', 'AVG_WVHT_2019', 'AVG_APD_2019']].describe()"
   ]
  },
  {
   "cell_type": "code",
   "execution_count": null,
   "metadata": {},
   "outputs": [],
   "source": [
    "df_clust_II_table=df_clust_II.astype('float64')\n",
    "df_clust_II_table[['AVG_WSPD_2019', 'AVG_WVHT_2019', 'AVG_APD_2019']].describe()"
   ]
  },
  {
   "cell_type": "code",
   "execution_count": null,
   "metadata": {},
   "outputs": [],
   "source": [
    "df_clust_III_table=df_clust_III.astype('float64')\n",
    "df_clust_III_table[['AVG_WSPD_2019', 'AVG_WVHT_2019', 'AVG_APD_2019']].describe()"
   ]
  },
  {
   "cell_type": "code",
   "execution_count": null,
   "metadata": {},
   "outputs": [],
   "source": [
    "df_clust_IV_table=df_clust_IV.astype('float64')\n",
    "df_clust_IV_table[['AVG_WSPD_2019', 'AVG_WVHT_2019', 'AVG_APD_2019']].describe()"
   ]
  },
  {
   "cell_type": "code",
   "execution_count": null,
   "metadata": {},
   "outputs": [],
   "source": [
    "df_clust_V_table=df_clust_V.astype('float64')\n",
    "df_clust_V_table[['AVG_WSPD_2018', 'AVG_WVHT_2018', 'AVG_APD_2018']].describe()"
   ]
  },
  {
   "cell_type": "code",
   "execution_count": null,
   "metadata": {},
   "outputs": [],
   "source": [
    "df_clust_I_table.describe().iloc[[7]]"
   ]
  },
  {
   "cell_type": "code",
   "execution_count": null,
   "metadata": {},
   "outputs": [],
   "source": []
  }
 ],
 "metadata": {
  "kernelspec": {
   "display_name": "Python 3",
   "language": "python",
   "name": "python3"
  },
  "language_info": {
   "codemirror_mode": {
    "name": "ipython",
    "version": 3
   },
   "file_extension": ".py",
   "mimetype": "text/x-python",
   "name": "python",
   "nbconvert_exporter": "python",
   "pygments_lexer": "ipython3",
   "version": "3.6.8"
  }
 },
 "nbformat": 4,
 "nbformat_minor": 4
}
